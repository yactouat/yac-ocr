{
 "cells": [
  {
   "cell_type": "markdown",
   "metadata": {},
   "source": [
    "# Digits classifier\n",
    "\n",
    "Let's build a model that is able to recognize a single digit from 0 to 9 from an image."
   ]
  },
  {
   "cell_type": "code",
   "execution_count": 1,
   "metadata": {},
   "outputs": [],
   "source": [
    "# loading and setting up dependencies\n",
    "import fastbook\n",
    "\n",
    "fastbook.setup_book()\n",
    "\n",
    "from fastai.vision.all import *\n",
    "from fastbook import *\n",
    "from matplotlib import pyplot as plt\n",
    "from torch.nn import functional as F"
   ]
  },
  {
   "cell_type": "markdown",
   "metadata": {},
   "source": [
    "## Importing the dataset"
   ]
  },
  {
   "cell_type": "code",
   "execution_count": 2,
   "metadata": {},
   "outputs": [
    {
     "data": {
      "text/html": [
       "\n",
       "<style>\n",
       "    /* Turns off some styling */\n",
       "    progress {\n",
       "        /* gets rid of default border in Firefox and Opera. */\n",
       "        border: none;\n",
       "        /* Needs to be in here for Safari polyfill so background images work as expected. */\n",
       "        background-size: auto;\n",
       "    }\n",
       "    progress:not([value]), progress:not([value])::-webkit-progress-bar {\n",
       "        background: repeating-linear-gradient(45deg, #7e7e7e, #7e7e7e 10px, #5c5c5c 10px, #5c5c5c 20px);\n",
       "    }\n",
       "    .progress-bar-interrupted, .progress-bar-interrupted::-webkit-progress-bar {\n",
       "        background: #F44336;\n",
       "    }\n",
       "</style>\n"
      ],
      "text/plain": [
       "<IPython.core.display.HTML object>"
      ]
     },
     "metadata": {},
     "output_type": "display_data"
    },
    {
     "data": {
      "text/html": [
       "\n",
       "    <div>\n",
       "      <progress value='15687680' class='' max='15683414' style='width:300px; height:20px; vertical-align: middle;'></progress>\n",
       "      100.03% [15687680/15683414 00:03&lt;00:00]\n",
       "    </div>\n",
       "    "
      ],
      "text/plain": [
       "<IPython.core.display.HTML object>"
      ]
     },
     "metadata": {},
     "output_type": "display_data"
    },
    {
     "data": {
      "text/plain": [
       "(#2) [Path('testing'),Path('training')]"
      ]
     },
     "execution_count": 2,
     "metadata": {},
     "output_type": "execute_result"
    }
   ],
   "source": [
    "# import MNIST dataset\n",
    "path_to_mnist = untar_data(URLs.MNIST)\n",
    "Path.BASE_PATH = path_to_mnist\n",
    "\n",
    "path_to_mnist.ls()"
   ]
  },
  {
   "cell_type": "markdown",
   "metadata": {},
   "source": [
    "As you can see from the previous output, this dataset is organized into separate folders for testing and training sets."
   ]
  },
  {
   "cell_type": "code",
   "execution_count": 3,
   "metadata": {},
   "outputs": [
    {
     "data": {
      "text/plain": [
       "((#10) [Path('training/6'),Path('training/4'),Path('training/9'),Path('training/7'),Path('training/3'),Path('training/5'),Path('training/8'),Path('training/2'),Path('training/1'),Path('training/0')],\n",
       " (#6742) [Path('training/1/3488.png'),Path('training/1/41249.png'),Path('training/1/53593.png'),Path('training/1/48085.png'),Path('training/1/51436.png'),Path('training/1/48189.png'),Path('training/1/32921.png'),Path('training/1/59932.png'),Path('training/1/1915.png'),Path('training/1/1060.png')...])"
      ]
     },
     "execution_count": 3,
     "metadata": {},
     "output_type": "execute_result"
    }
   ],
   "source": [
    "# let's see what's in the training set\n",
    "(path_to_mnist / 'training').ls(), (path_to_mnist / 'training/1').ls()"
   ]
  },
  {
   "cell_type": "code",
   "execution_count": 4,
   "metadata": {},
   "outputs": [
    {
     "data": {
      "text/plain": [
       "((#10) [Path('testing/6'),Path('testing/4'),Path('testing/9'),Path('testing/7'),Path('testing/3'),Path('testing/5'),Path('testing/8'),Path('testing/2'),Path('testing/1'),Path('testing/0')],\n",
       " (#1135) [Path('testing/1/2315.png'),Path('testing/1/1350.png'),Path('testing/1/1214.png'),Path('testing/1/8078.png'),Path('testing/1/2136.png'),Path('testing/1/6101.png'),Path('testing/1/8261.png'),Path('testing/1/4104.png'),Path('testing/1/5859.png'),Path('testing/1/8088.png')...])"
      ]
     },
     "execution_count": 4,
     "metadata": {},
     "output_type": "execute_result"
    }
   ],
   "source": [
    "# now let's see what's in the testing set\n",
    "(path_to_mnist / 'testing').ls(), (path_to_mnist / 'testing/1').ls()"
   ]
  },
  {
   "cell_type": "markdown",
   "metadata": {},
   "source": [
    "Let's save the paths to all training digits in a list, and all testing digits in another list."
   ]
  },
  {
   "cell_type": "code",
   "execution_count": 314,
   "metadata": {},
   "outputs": [],
   "source": [
    "mnist_training_0s = (path_to_mnist / 'training' / '0').ls().sorted()\n",
    "mnist_training_1s = (path_to_mnist / 'training' / '1').ls().sorted()\n",
    "mnist_training_2s = (path_to_mnist / 'training' / '2').ls().sorted()\n",
    "mnist_training_3s = (path_to_mnist / 'training' / '3').ls().sorted()\n",
    "mnist_training_4s = (path_to_mnist / 'training' / '4').ls().sorted()\n",
    "mnist_training_5s = (path_to_mnist / 'training' / '5').ls().sorted()\n",
    "mnist_training_6s = (path_to_mnist / 'training' / '6').ls().sorted()\n",
    "mnist_training_7s = (path_to_mnist / 'training' / '7').ls().sorted()\n",
    "mnist_training_8s = (path_to_mnist / 'training' / '8').ls().sorted()\n",
    "mnist_training_9s = (path_to_mnist / 'training' / '9').ls().sorted()\n",
    "\n",
    "mnist_testing_0s = (path_to_mnist / 'testing' / '0').ls().sorted()\n",
    "mnist_testing_1s = (path_to_mnist / 'testing' / '1').ls().sorted()\n",
    "mnist_testing_2s = (path_to_mnist / 'testing' / '2').ls().sorted()\n",
    "mnist_testing_3s = (path_to_mnist / 'testing' / '3').ls().sorted()\n",
    "mnist_testing_4s = (path_to_mnist / 'testing' / '4').ls().sorted()\n",
    "mnist_testing_5s = (path_to_mnist / 'testing' / '5').ls().sorted()\n",
    "mnist_testing_6s = (path_to_mnist / 'testing' / '6').ls().sorted()\n",
    "mnist_testing_7s = (path_to_mnist / 'testing' / '7').ls().sorted()\n",
    "mnist_testing_8s = (path_to_mnist / 'testing' / '8').ls().sorted()\n",
    "mnist_testing_9s = (path_to_mnist / 'testing' / '9').ls().sorted()"
   ]
  },
  {
   "cell_type": "markdown",
   "metadata": {},
   "source": [
    "## defining our baseline model\n",
    "\n",
    "The _baseline_ of our classifier will be very simple, as it should be: it will work by finding the average pixel value for every pixel of each nuber.\n",
    "\n",
    "This gives us group averages that we may call \"ideal digits\". We classify a digit as x by finding the ideal digit whose average is closest to the image we are trying to classify."
   ]
  },
  {
   "cell_type": "markdown",
   "metadata": {},
   "source": [
    "## creating \"ideal digits\" with rank-3 tensors\n",
    "\n",
    "For every pixel position, we want to compute the average over all the images of the intensity of that pixel. \n",
    "\n",
    "To do this we first combine all the images in this list into a single three-dimensional tensor. \n",
    "\n",
    "The most common way to describe such a tensor is to call it a _rank-3 tensor_.\n",
    "\n",
    "See an example of what that might look like below:\n",
    "\n",
    "![rank-3 tensor.png](./rank-3-tensor.png)\n",
    "\n",
    "### how did we conclude that we needed a rank-3 tensor?\n",
    "\n",
    "- Each image is a 2d matrix of pixels (rows and columns, e.g. a _rank-2 tensor_)\n",
    "- Each element in an image matrix corresponds to a pixel intensity (a scalar value, e.g. a _rank-1 tensor_)\n",
    "- To ease computing of the average of each pixel intensity over all images, you would stack each of these matrices on top of each other: there you have it, a _rank-3 tensor_"
   ]
  },
  {
   "cell_type": "code",
   "execution_count": 315,
   "metadata": {},
   "outputs": [],
   "source": [
    "# create lists of tensors containing all digits (one for every digit)\n",
    "list_0s = [tensor(Image.open(digit)) for digit in mnist_training_0s]\n",
    "list_1s = [tensor(Image.open(digit)) for digit in mnist_training_1s]\n",
    "list_2s = [tensor(Image.open(digit)) for digit in mnist_training_2s]\n",
    "list_3s = [tensor(Image.open(digit)) for digit in mnist_training_3s]\n",
    "list_4s = [tensor(Image.open(digit)) for digit in mnist_training_4s]\n",
    "list_5s = [tensor(Image.open(digit)) for digit in mnist_training_5s]\n",
    "list_6s = [tensor(Image.open(digit)) for digit in mnist_training_6s]\n",
    "list_7s = [tensor(Image.open(digit)) for digit in mnist_training_7s]\n",
    "list_8s = [tensor(Image.open(digit)) for digit in mnist_training_8s]\n",
    "list_9s = [tensor(Image.open(digit)) for digit in mnist_training_9s]\n",
    "\n",
    "list_0s_test = [tensor(Image.open(digit)) for digit in mnist_testing_0s]\n",
    "list_1s_test = [tensor(Image.open(digit)) for digit in mnist_testing_1s]\n",
    "list_2s_test = [tensor(Image.open(digit)) for digit in mnist_testing_2s]\n",
    "list_3s_test = [tensor(Image.open(digit)) for digit in mnist_testing_3s]\n",
    "list_4s_test = [tensor(Image.open(digit)) for digit in mnist_testing_4s]\n",
    "list_5s_test = [tensor(Image.open(digit)) for digit in mnist_testing_5s]\n",
    "list_6s_test = [tensor(Image.open(digit)) for digit in mnist_testing_6s]\n",
    "list_7s_test = [tensor(Image.open(digit)) for digit in mnist_testing_7s]\n",
    "list_8s_test = [tensor(Image.open(digit)) for digit in mnist_testing_8s]\n",
    "list_9s_test = [tensor(Image.open(digit)) for digit in mnist_testing_9s]"
   ]
  },
  {
   "cell_type": "code",
   "execution_count": 316,
   "metadata": {},
   "outputs": [
    {
     "data": {
      "text/plain": [
       "(6131, 1010)"
      ]
     },
     "execution_count": 316,
     "metadata": {},
     "output_type": "execute_result"
    }
   ],
   "source": [
    "# each digits tensor has more or less 6000 images of 28x28 pixels in it for our training data\n",
    "# and 1000 images give or less for our testing data\n",
    "len(list_3s),len(list_3s_test)"
   ]
  },
  {
   "cell_type": "code",
   "execution_count": 317,
   "metadata": {},
   "outputs": [
    {
     "data": {
      "text/plain": [
       "<Axes: >"
      ]
     },
     "execution_count": 317,
     "metadata": {},
     "output_type": "execute_result"
    },
    {
     "data": {
      "image/png": "[encoded data removed]",
      "text/plain": [
       "<Figure size 100x100 with 1 Axes>"
      ]
     },
     "metadata": {},
     "output_type": "display_data"
    }
   ],
   "source": [
    "# Jupyter ships with a function called `show_image` that knows how to render a tensor as an image\n",
    "show_image(list_3s[1])"
   ]
  },
  {
   "cell_type": "code",
   "execution_count": 318,
   "metadata": {},
   "outputs": [
    {
     "data": {
      "text/plain": [
       "torch.Size([6131, 28, 28])"
      ]
     },
     "execution_count": 318,
     "metadata": {},
     "output_type": "execute_result"
    }
   ],
   "source": [
    "# let's stack our images and cast our stacked tensors as float tensors for further computation,\n",
    "# we also normalise our pixel values to be between 0 and 1 by dividing by 255, this will improve our model's accuracy\n",
    "stacked_0s = torch.stack(list_0s).float()/255\n",
    "stacked_1s = torch.stack(list_1s).float()/255\n",
    "stacked_2s = torch.stack(list_2s).float()/255\n",
    "stacked_3s = torch.stack(list_3s).float()/255\n",
    "stacked_4s = torch.stack(list_4s).float()/255\n",
    "stacked_5s = torch.stack(list_5s).float()/255\n",
    "stacked_6s = torch.stack(list_6s).float()/255\n",
    "stacked_7s = torch.stack(list_7s).float()/255\n",
    "stacked_8s = torch.stack(list_8s).float()/255\n",
    "stacked_9s = torch.stack(list_9s).float()/255\n",
    "# a _shape_ tells us the length of each axis of a tensor\n",
    "stacked_3s.shape # the output says \"we have 6131 images, each of size 28x28 pixels\"."
   ]
  },
  {
   "cell_type": "code",
   "execution_count": 319,
   "metadata": {},
   "outputs": [
    {
     "data": {
      "text/plain": [
       "(3, 3)"
      ]
     },
     "execution_count": 319,
     "metadata": {},
     "output_type": "execute_result"
    }
   ],
   "source": [
    "# the _length_ of a tensor's shape is its _rank_ (2 notations for the same thing)\n",
    "len(stacked_3s.shape), stacked_3s.ndim"
   ]
  },
  {
   "cell_type": "markdown",
   "metadata": {},
   "source": [
    "The _dimension_ 0 of our rank-3 tensor is the number of images.\n",
    "\n",
    "Here is how you would compute the average pixel intensity for each pixel position:"
   ]
  },
  {
   "cell_type": "code",
   "execution_count": 320,
   "metadata": {},
   "outputs": [
    {
     "data": {
      "text/plain": [
       "(<Axes: >,\n",
       " <Axes: >,\n",
       " <Axes: >,\n",
       " <Axes: >,\n",
       " <Axes: >,\n",
       " <Axes: >,\n",
       " <Axes: >,\n",
       " <Axes: >,\n",
       " <Axes: >,\n",
       " <Axes: >)"
      ]
     },
     "execution_count": 320,
     "metadata": {},
     "output_type": "execute_result"
    },
    {
     "data": {
      "image/png": "[encoded data removed]",
      "text/plain": [
       "<Figure size 100x100 with 1 Axes>"
      ]
     },
     "metadata": {},
     "output_type": "display_data"
    },
    {
     "data": {
      "image/png": "[encoded data removed]",
      "text/plain": [
       "<Figure size 100x100 with 1 Axes>"
      ]
     },
     "metadata": {},
     "output_type": "display_data"
    },
    {
     "data": {
      "image/png": "[encoded data removed]",
      "text/plain": [
       "<Figure size 100x100 with 1 Axes>"
      ]
     },
     "metadata": {},
     "output_type": "display_data"
    },
    {
     "data": {
      "image/png": "[encoded data removed]",
      "text/plain": [
       "<Figure size 100x100 with 1 Axes>"
      ]
     },
     "metadata": {},
     "output_type": "display_data"
    },
    {
     "data": {
      "image/png": "[encoded data removed]",
      "text/plain": [
       "<Figure size 100x100 with 1 Axes>"
      ]
     },
     "metadata": {},
     "output_type": "display_data"
    },
    {
     "data": {
      "image/png": "[encoded data removed]",
      "text/plain": [
       "<Figure size 100x100 with 1 Axes>"
      ]
     },
     "metadata": {},
     "output_type": "display_data"
    },
    {
     "data": {
      "image/png": "[encoded data removed]",
      "text/plain": [
       "<Figure size 100x100 with 1 Axes>"
      ]
     },
     "metadata": {},
     "output_type": "display_data"
    },
    {
     "data": {
      "image/png": "[encoded data removed]",
      "text/plain": [
       "<Figure size 100x100 with 1 Axes>"
      ]
     },
     "metadata": {},
     "output_type": "display_data"
    },
    {
     "data": {
      "image/png": "[encoded data removed]",
      "text/plain": [
       "<Figure size 100x100 with 1 Axes>"
      ]
     },
     "metadata": {},
     "output_type": "display_data"
    },
    {
     "data": {
      "image/png": "[encoded data removed]",
      "text/plain": [
       "<Figure size 100x100 with 1 Axes>"
      ]
     },
     "metadata": {},
     "output_type": "display_data"
    }
   ],
   "source": [
    "ideal_0 = stacked_0s.mean(0)\n",
    "ideal_1 = stacked_1s.mean(0)\n",
    "ideal_2 = stacked_2s.mean(0)\n",
    "ideal_3 = stacked_3s.mean(0)\n",
    "ideal_4 = stacked_4s.mean(0)\n",
    "ideal_5 = stacked_5s.mean(0)\n",
    "ideal_6 = stacked_6s.mean(0)\n",
    "ideal_7 = stacked_7s.mean(0)\n",
    "ideal_8 = stacked_8s.mean(0)\n",
    "ideal_9 = stacked_9s.mean(0)\n",
    "show_image(ideal_0), show_image(ideal_1), show_image(ideal_2), show_image(ideal_3), show_image(ideal_4), show_image(ideal_5), show_image(ideal_6), show_image(ideal_7), show_image(ideal_8), show_image(ideal_9)"
   ]
  },
  {
   "cell_type": "markdown",
   "metadata": {},
   "source": [
    "## Test the baseline model\n",
    "\n",
    "Now that we have an idea of what our ideal digits look like, we can try to classify our images. To test our baseline, we would pick an arbitrary number from the dataset and measure its distance from its _ideal_ representation."
   ]
  },
  {
   "cell_type": "code",
   "execution_count": 321,
   "metadata": {},
   "outputs": [
    {
     "data": {
      "text/plain": [
       "<Axes: >"
      ]
     },
     "execution_count": 321,
     "metadata": {},
     "output_type": "execute_result"
    },
    {
     "data": {
      "image/png": "[encoded data removed]",
      "text/plain": [
       "<Figure size 100x100 with 1 Axes>"
      ]
     },
     "metadata": {},
     "output_type": "display_data"
    }
   ],
   "source": [
    "# here is our sample number for our test\n",
    "ex3_2 = stacked_3s[1]\n",
    "show_image(ex3_2)"
   ]
  },
  {
   "cell_type": "markdown",
   "metadata": {},
   "source": [
    "To calculate the distance from the baseline `3`, we can't just add up the differences in intensity between each of the pixels of both images. It is so because some differences would cancel out (light vs dark pixels), and that would be misleading as very different pixels could add up to zero, which would mean \"no difference from the ideal digit representation\".\n",
    "\n",
    "There are two main ways data scientists measure distance in this context:\n",
    "\n",
    "- take the mean absolute value of differences: this is called _mean absolute difference_ or _L1 norm_\n",
    "- take the mean of the square of differences (which makes everything positive) and then take the square root (which undoes the squaring): this is called _root mean squared error_ or _L2 norm_"
   ]
  },
  {
   "cell_type": "code",
   "execution_count": 322,
   "metadata": {},
   "outputs": [
    {
     "data": {
      "text/plain": [
       "tensor(0.1114)"
      ]
     },
     "execution_count": 322,
     "metadata": {},
     "output_type": "execute_result"
    }
   ],
   "source": [
    "# let's try the `L1` norm\n",
    "ex3_2_dist_l1 = (ex3_2 - ideal_3).abs().mean()\n",
    "\n",
    "ex3_2_dist_l1"
   ]
  },
  {
   "cell_type": "code",
   "execution_count": 323,
   "metadata": {},
   "outputs": [
    {
     "data": {
      "text/plain": [
       "tensor(0.2021)"
      ]
     },
     "execution_count": 323,
     "metadata": {},
     "output_type": "execute_result"
    }
   ],
   "source": [
    "# let's try the `L2` norm now\n",
    "ex3_2_dist_l2 = ((ex3_2 - ideal_3)**2).mean().sqrt()\n",
    "\n",
    "ex3_2_dist_l2"
   ]
  },
  {
   "cell_type": "code",
   "execution_count": 324,
   "metadata": {},
   "outputs": [
    {
     "data": {
      "text/plain": [
       "(tensor(0.1586), tensor(0.1114))"
      ]
     },
     "execution_count": 324,
     "metadata": {},
     "output_type": "execute_result"
    }
   ],
   "source": [
    "# let's predict what an example number is using the examples of 3 and 7 we have,\n",
    "# the closer we are to 0 for a given ideal digit, the more likely it is that our example is that digit\n",
    "\n",
    "# `L1` norm\n",
    "dist7_l1 = (ex3_2 - ideal_7).abs().mean()\n",
    "dist3_l1 = (ex3_2 - ideal_3).abs().mean()\n",
    "dist7_l1, dist3_l1"
   ]
  },
  {
   "cell_type": "code",
   "execution_count": 325,
   "metadata": {},
   "outputs": [
    {
     "data": {
      "text/plain": [
       "(tensor(0.3021), tensor(0.2021))"
      ]
     },
     "execution_count": 325,
     "metadata": {},
     "output_type": "execute_result"
    }
   ],
   "source": [
    "# we'll use the `L2` norm\n",
    "dist7_l2 = ((ex3_2 - ideal_7)**2).mean().sqrt()\n",
    "dist3_l2 = ((ex3_2 - ideal_3)**2).mean().sqrt()\n",
    "dist7_l2, dist3_l2"
   ]
  },
  {
   "cell_type": "markdown",
   "metadata": {},
   "source": [
    "From the little experiment we've just run, we can see that our baseline model predicts right in this particular case, as both results are greater for a 7 than they would have been for a 3.\n",
    "\n",
    "We could have done the same thing with `PyTorch`, which provides loss functions (among many other things), as shown below:"
   ]
  },
  {
   "cell_type": "code",
   "execution_count": 326,
   "metadata": {},
   "outputs": [
    {
     "data": {
      "text/plain": [
       "tensor(0.1586)"
      ]
     },
     "execution_count": 326,
     "metadata": {},
     "output_type": "execute_result"
    }
   ],
   "source": [
    "dist7_l1_torch = F.l1_loss(ex3_2.float(), ideal_7)\n",
    "dist7_l1_torch"
   ]
  },
  {
   "cell_type": "code",
   "execution_count": 327,
   "metadata": {},
   "outputs": [
    {
     "data": {
      "text/plain": [
       "tensor(0.3021)"
      ]
     },
     "execution_count": 327,
     "metadata": {},
     "output_type": "execute_result"
    }
   ],
   "source": [
    "dist7_l2_torch = F.mse_loss(ex3_2, ideal_7).sqrt()\n",
    "dist7_l2_torch"
   ]
  },
  {
   "cell_type": "markdown",
   "metadata": {},
   "source": [
    "We could use PyTorch tensors and MSE loss to train our model, since MSE will penalise more the bigger the difference between the prediction and the target is; this is what we want since we have a wide range of values to predict (0 to 9). Something to be aware of...\n",
    "\n",
    "But let's first try mean absolute error (MAE) loss for now."
   ]
  },
  {
   "cell_type": "markdown",
   "metadata": {},
   "source": [
    "## Defining a metric for our baseline model\n",
    "\n",
    "A metric is a number that is calculated based on the predictions of our model, and the correct labels in our dataset, in order to tell us how good our model is.\n",
    "\n",
    "In practice, _accuracy_ is a common metric for classification models.\n",
    "\n",
    "- The _error rate_ in deep learning refers to the difference between the predicted output and the actual output of a neural network. It is a measure of how well the network is performing on a given task. In this context, _accuracy_ can be defined as `1.0 - error rate`.\n",
    "\n",
    "A metric is always calculated over a _validation_ set.\n",
    "\n",
    "To get a validation set, we need to set aside some of the data of the training set entirely, so it's not seen by the model at all during training."
   ]
  },
  {
   "cell_type": "code",
   "execution_count": 328,
   "metadata": {},
   "outputs": [],
   "source": [
    "# let's create test tensors for our digits\n",
    "\n",
    "# let's do that by picking the last 1000 images of each digit,\n",
    "# we also want to divide tensors by 255 to normalize the pixel values between 0 and 1\n",
    "mnist_test_0s = torch.stack(list_0s_test).float()/255\n",
    "mnist_test_1s = torch.stack(list_1s_test).float()/255\n",
    "mnist_test_2s = torch.stack(list_2s_test).float()/255\n",
    "mnist_test_3s = torch.stack(list_3s_test).float()/255\n",
    "mnist_test_4s = torch.stack(list_4s_test).float()/255\n",
    "mnist_test_5s = torch.stack(list_5s_test).float()/255\n",
    "mnist_test_6s = torch.stack(list_6s_test).float()/255\n",
    "mnist_test_7s = torch.stack(list_7s_test).float()/255\n",
    "mnist_test_8s = torch.stack(list_8s_test).float()/255\n",
    "mnist_test_9s = torch.stack(list_9s_test).float()/255\n"
   ]
  },
  {
   "cell_type": "code",
   "execution_count": 329,
   "metadata": {},
   "outputs": [
    {
     "data": {
      "text/plain": [
       "tensor(0.1114)"
      ]
     },
     "execution_count": 329,
     "metadata": {},
     "output_type": "execute_result"
    }
   ],
   "source": [
    "# now let's write the function that will give use the mean absolute difference losses for a given image\n",
    "def mnist_mad_distance(a,b): return (a-b).abs().mean((-1,-2))\n",
    "mnist_mad_distance(ex3_2, ideal_3)\n"
   ]
  },
  {
   "cell_type": "markdown",
   "metadata": {},
   "source": [
    "### why `mean((-1,-2))`\n",
    "\n",
    "The `mean` function in `PyTorch` can take a tuple of axes to take the mean of. \n",
    "In this case, we want to take the mean over the last two dimensions (in this case, the horizontal and vertical dimensions of an image).\n",
    "\n",
    "The tuple `(-1,-2)` represents a range of axes.\n",
    "\n",
    "This effectively allows us to make batch calculations on rank-3 tensors, as you will see in the example below."
   ]
  },
  {
   "cell_type": "code",
   "execution_count": 330,
   "metadata": {},
   "outputs": [
    {
     "data": {
      "text/plain": [
       "(tensor([0.1280, 0.1623, 0.1242,  ..., 0.1508, 0.1263, 0.1260]),\n",
       " torch.Size([1010]))"
      ]
     },
     "execution_count": 330,
     "metadata": {},
     "output_type": "execute_result"
    }
   ],
   "source": [
    "# applying the same calculation for every image in our validation set\n",
    "# for every image, we averaged the intensity of all pixels in that image;\n",
    "# we are left with a rank-1 tensor of a thousand numbers\n",
    "valid_3_l1_distances = mnist_mad_distance(mnist_test_3s, ideal_3)\n",
    "valid_3_l1_distances, valid_3_l1_distances.shape"
   ]
  },
  {
   "cell_type": "markdown",
   "metadata": {},
   "source": [
    "`PyTorch` is so versatile it didn't even complain about shapes not matching and calculated the distance for each image instead !\n",
    "\n",
    "This is made possible because `PyTorch` uses _broadcasting_ under the hood: e.g. the ability expand a lower rank tensor to have the same size as a higher rank input tensor during a calculation. This is why this type of operation is possible:\n",
    "\n",
    "```python\n",
    "tensor([1,2,3]) + tensor(1) # tensor([2,3,4])\n",
    "```\n",
    "\n",
    "Now let's continue with the function that determines which number is predicted by our baseline model:"
   ]
  },
  {
   "cell_type": "code",
   "execution_count": 331,
   "metadata": {},
   "outputs": [
    {
     "data": {
      "text/plain": [
       "tensor(3.)"
      ]
     },
     "execution_count": 331,
     "metadata": {},
     "output_type": "execute_result"
    }
   ],
   "source": [
    "def is_y(x): \n",
    "    mads = tensor([mnist_mad_distance(x,ideal_0), mnist_mad_distance(x,ideal_1), mnist_mad_distance(x,ideal_2), mnist_mad_distance(x,ideal_3), \n",
    "        mnist_mad_distance(x,ideal_4), mnist_mad_distance(x,ideal_5), mnist_mad_distance(x,ideal_6), mnist_mad_distance(x,ideal_7), \n",
    "        mnist_mad_distance(x,ideal_8), mnist_mad_distance(x,ideal_9)])\n",
    "    # get the index of the minimum value\n",
    "    return mads.argmin().float()\n",
    "\n",
    "# let's test the function\n",
    "is_y(ex3_2)"
   ]
  },
  {
   "cell_type": "code",
   "execution_count": 332,
   "metadata": {},
   "outputs": [
    {
     "data": {
      "text/plain": [
       "torch.Size([1010, 28, 28])"
      ]
     },
     "execution_count": 332,
     "metadata": {},
     "output_type": "execute_result"
    }
   ],
   "source": [
    "# let's do the same thing at scale\n",
    "mnist_test_3s.shape"
   ]
  },
  {
   "cell_type": "code",
   "execution_count": 333,
   "metadata": {},
   "outputs": [],
   "source": [
    "# since we have a rank-3 tensors of 1000 images, we'll need to call our function without its first axis\n",
    "def is_y_batch(x_batch):\n",
    "    # create an empty tensor\n",
    "    results = tensor([])\n",
    "    for i in range(x_batch.shape[0]):\n",
    "        x = x_batch[i]\n",
    "        y = is_y(x).item()\n",
    "        # push the float value into the tensor\n",
    "        results = torch.cat((results, tensor([y])))\n",
    "    return results"
   ]
  },
  {
   "cell_type": "code",
   "execution_count": 334,
   "metadata": {},
   "outputs": [
    {
     "name": "stdout",
     "output_type": "stream",
     "text": [
      "accuracy for 0s: 0.8153061270713806\n",
      "accuracy for 1s: 0.9982379078865051\n",
      "accuracy for 2s: 0.4234496057033539\n",
      "accuracy for 3s: 0.6089109182357788\n",
      "accuracy for 4s: 0.6680244207382202\n",
      "accuracy for 5s: 0.3262331783771515\n",
      "accuracy for 6s: 0.7870563864707947\n",
      "accuracy for 7s: 0.7645914554595947\n",
      "accuracy for 8s: 0.4425051212310791\n",
      "accuracy for 9s: 0.7760158777236938\n"
     ]
    }
   ],
   "source": [
    "# let's check our accuracy for all digits\n",
    "for i in range(0, 10):\n",
    "    predicted_y = is_y_batch(globals()[f'mnist_test_{i}s'])\n",
    "    number_of_y =  predicted_y.lt(i+1) & predicted_y.ge(i)\n",
    "    print(f'accuracy for {i}s: {(number_of_y.sum() / len(predicted_y))}')\n"
   ]
  },
  {
   "cell_type": "markdown",
   "metadata": {},
   "source": [
    "We can conclude from the above that we have a pretty good baseline for most numbers!\n",
    "\n",
    "However, we are underperforming for 8s, 5s, and 2s. Can we get a better result with the L2 norm?"
   ]
  },
  {
   "cell_type": "code",
   "execution_count": 335,
   "metadata": {},
   "outputs": [
    {
     "data": {
      "text/plain": [
       "tensor(0.2021)"
      ]
     },
     "execution_count": 335,
     "metadata": {},
     "output_type": "execute_result"
    }
   ],
   "source": [
    "def mnist_mse_distance(a,b): return F.mse_loss(a, b).sqrt()\n",
    "mnist_mse_distance(ex3_2, ideal_3)"
   ]
  },
  {
   "cell_type": "code",
   "execution_count": 336,
   "metadata": {},
   "outputs": [
    {
     "name": "stdout",
     "output_type": "stream",
     "text": [
      "accuracy for 0s: 0.8959183692932129\n",
      "accuracy for 1s: 0.9621145129203796\n",
      "accuracy for 2s: 0.7567829489707947\n",
      "accuracy for 3s: 0.805940568447113\n",
      "accuracy for 4s: 0.8258655667304993\n",
      "accuracy for 5s: 0.6860986351966858\n",
      "accuracy for 6s: 0.8632568120956421\n",
      "accuracy for 7s: 0.8326848149299622\n",
      "accuracy for 8s: 0.7371663451194763\n",
      "accuracy for 9s: 0.806739330291748\n",
      "\n",
      "\n",
      "global accuracy: 81.72567749023438%\n"
     ]
    }
   ],
   "source": [
    "def is_y_mse(x): \n",
    "    mses = tensor([mnist_mse_distance(x,ideal_0), mnist_mse_distance(x,ideal_1), mnist_mse_distance(x,ideal_2), mnist_mse_distance(x,ideal_3), \n",
    "        mnist_mse_distance(x,ideal_4), mnist_mse_distance(x,ideal_5), mnist_mse_distance(x,ideal_6), mnist_mse_distance(x,ideal_7), \n",
    "        mnist_mse_distance(x,ideal_8), mnist_mse_distance(x,ideal_9)])\n",
    "    # get the index of the minimum value\n",
    "    return mses.argmin().float()\n",
    "\n",
    "def is_y_mse_batch(x_batch):\n",
    "    # create an empty tensor\n",
    "    results = tensor([])\n",
    "    for i in range(x_batch.shape[0]):\n",
    "        x = x_batch[i]\n",
    "        y = is_y_mse(x).item()\n",
    "        # push the float value into the tensor\n",
    "        results = torch.cat((results, tensor([y])))\n",
    "    return results\n",
    "\n",
    "# let's check our accuracy for all digits using MSE\n",
    "accuracies = []\n",
    "for i in range(0, 10):\n",
    "    predicted_y = is_y_mse_batch(globals()[f'mnist_test_{i}s'])\n",
    "    number_of_y =  predicted_y.lt(i+1) & predicted_y.ge(i)\n",
    "    print(f'accuracy for {i}s: {(number_of_y.sum() / len(predicted_y))}')\n",
    "    accuracies.append((number_of_y.sum() / len(predicted_y)) * 100)\n",
    "\n",
    "print(\"\\n\")\n",
    "print(f'global accuracy: {sum(accuracies) / len(accuracies)}%')"
   ]
  },
  {
   "cell_type": "markdown",
   "metadata": {},
   "source": [
    "As we can see, this is way better with MSE! Now we have a very decent baseline model. No accuracy for any digit is under 50% and our global accuracy is 82%."
   ]
  }
 ],
 "metadata": {
  "kernelspec": {
   "display_name": "Python 3",
   "language": "python",
   "name": "python3"
  },
  "language_info": {
   "codemirror_mode": {
    "name": "ipython",
    "version": 3
   },
   "file_extension": ".py",
   "mimetype": "text/x-python",
   "name": "python",
   "nbconvert_exporter": "python",
   "pygments_lexer": "ipython3",
   "version": "3.10.12"
  },
  "orig_nbformat": 4
 },
 "nbformat": 4,
 "nbformat_minor": 2
}
